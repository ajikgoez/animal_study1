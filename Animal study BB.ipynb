{
 "cells": [
  {
   "cell_type": "code",
   "execution_count": 1,
   "metadata": {},
   "outputs": [],
   "source": [
    "import pandas as pd\n",
    "import numpy as np\n",
    "import matplotlib.pyplot as plt\n",
    "import seaborn as sns"
   ]
  },
  {
   "cell_type": "code",
   "execution_count": 2,
   "metadata": {},
   "outputs": [
    {
     "data": {
      "text/html": [
       "<div>\n",
       "<style scoped>\n",
       "    .dataframe tbody tr th:only-of-type {\n",
       "        vertical-align: middle;\n",
       "    }\n",
       "\n",
       "    .dataframe tbody tr th {\n",
       "        vertical-align: top;\n",
       "    }\n",
       "\n",
       "    .dataframe thead th {\n",
       "        text-align: right;\n",
       "    }\n",
       "</style>\n",
       "<table border=\"1\" class=\"dataframe\">\n",
       "  <thead>\n",
       "    <tr style=\"text-align: right;\">\n",
       "      <th></th>\n",
       "      <th>sex</th>\n",
       "      <th>kelompok_1</th>\n",
       "      <th>kelompok_2</th>\n",
       "      <th>kelompok_3</th>\n",
       "      <th>kelompok_4</th>\n",
       "      <th>kelompok_5</th>\n",
       "      <th>kelompok_6</th>\n",
       "    </tr>\n",
       "  </thead>\n",
       "  <tbody>\n",
       "    <tr>\n",
       "      <th>0</th>\n",
       "      <td>jantan</td>\n",
       "      <td>165.82</td>\n",
       "      <td>162.02</td>\n",
       "      <td>158.48</td>\n",
       "      <td>158.58</td>\n",
       "      <td>155.21</td>\n",
       "      <td>135.95</td>\n",
       "    </tr>\n",
       "    <tr>\n",
       "      <th>1</th>\n",
       "      <td>jantan</td>\n",
       "      <td>133.68</td>\n",
       "      <td>134.95</td>\n",
       "      <td>133.46</td>\n",
       "      <td>137.58</td>\n",
       "      <td>146.43</td>\n",
       "      <td>154.48</td>\n",
       "    </tr>\n",
       "    <tr>\n",
       "      <th>2</th>\n",
       "      <td>jantan</td>\n",
       "      <td>141.18</td>\n",
       "      <td>145.74</td>\n",
       "      <td>146.58</td>\n",
       "      <td>160.68</td>\n",
       "      <td>168.72</td>\n",
       "      <td>161.54</td>\n",
       "    </tr>\n",
       "    <tr>\n",
       "      <th>3</th>\n",
       "      <td>jantan</td>\n",
       "      <td>173.63</td>\n",
       "      <td>176.03</td>\n",
       "      <td>156.26</td>\n",
       "      <td>158.70</td>\n",
       "      <td>152.60</td>\n",
       "      <td>148.39</td>\n",
       "    </tr>\n",
       "    <tr>\n",
       "      <th>4</th>\n",
       "      <td>jantan</td>\n",
       "      <td>157.75</td>\n",
       "      <td>132.05</td>\n",
       "      <td>144.23</td>\n",
       "      <td>145.15</td>\n",
       "      <td>144.18</td>\n",
       "      <td>138.45</td>\n",
       "    </tr>\n",
       "    <tr>\n",
       "      <th>5</th>\n",
       "      <td>betina</td>\n",
       "      <td>136.78</td>\n",
       "      <td>127.72</td>\n",
       "      <td>126.08</td>\n",
       "      <td>134.92</td>\n",
       "      <td>131.35</td>\n",
       "      <td>110.45</td>\n",
       "    </tr>\n",
       "    <tr>\n",
       "      <th>6</th>\n",
       "      <td>betina</td>\n",
       "      <td>114.97</td>\n",
       "      <td>114.20</td>\n",
       "      <td>116.26</td>\n",
       "      <td>118.67</td>\n",
       "      <td>108.79</td>\n",
       "      <td>117.76</td>\n",
       "    </tr>\n",
       "    <tr>\n",
       "      <th>7</th>\n",
       "      <td>betina</td>\n",
       "      <td>108.72</td>\n",
       "      <td>108.72</td>\n",
       "      <td>108.99</td>\n",
       "      <td>122.66</td>\n",
       "      <td>124.86</td>\n",
       "      <td>123.46</td>\n",
       "    </tr>\n",
       "    <tr>\n",
       "      <th>8</th>\n",
       "      <td>betina</td>\n",
       "      <td>120.32</td>\n",
       "      <td>120.40</td>\n",
       "      <td>119.52</td>\n",
       "      <td>111.02</td>\n",
       "      <td>114.14</td>\n",
       "      <td>108.64</td>\n",
       "    </tr>\n",
       "    <tr>\n",
       "      <th>9</th>\n",
       "      <td>betina</td>\n",
       "      <td>107.06</td>\n",
       "      <td>110.26</td>\n",
       "      <td>115.33</td>\n",
       "      <td>113.06</td>\n",
       "      <td>110.76</td>\n",
       "      <td>112.02</td>\n",
       "    </tr>\n",
       "  </tbody>\n",
       "</table>\n",
       "</div>"
      ],
      "text/plain": [
       "      sex  kelompok_1  kelompok_2  kelompok_3  kelompok_4  kelompok_5  \\\n",
       "0  jantan      165.82      162.02      158.48      158.58      155.21   \n",
       "1  jantan      133.68      134.95      133.46      137.58      146.43   \n",
       "2  jantan      141.18      145.74      146.58      160.68      168.72   \n",
       "3  jantan      173.63      176.03      156.26      158.70      152.60   \n",
       "4  jantan      157.75      132.05      144.23      145.15      144.18   \n",
       "5  betina      136.78      127.72      126.08      134.92      131.35   \n",
       "6  betina      114.97      114.20      116.26      118.67      108.79   \n",
       "7  betina      108.72      108.72      108.99      122.66      124.86   \n",
       "8  betina      120.32      120.40      119.52      111.02      114.14   \n",
       "9  betina      107.06      110.26      115.33      113.06      110.76   \n",
       "\n",
       "   kelompok_6  \n",
       "0      135.95  \n",
       "1      154.48  \n",
       "2      161.54  \n",
       "3      148.39  \n",
       "4      138.45  \n",
       "5      110.45  \n",
       "6      117.76  \n",
       "7      123.46  \n",
       "8      108.64  \n",
       "9      112.02  "
      ]
     },
     "execution_count": 2,
     "metadata": {},
     "output_type": "execute_result"
    }
   ],
   "source": [
    "df_new=pd.read_csv(\"E:/python/bbtikus.csv\")\n",
    "pd.options.display.max_columns= None\n",
    "pd.options.display.max_rows= None\n",
    "df_new"
   ]
  },
  {
   "cell_type": "code",
   "execution_count": 4,
   "metadata": {},
   "outputs": [
    {
     "data": {
      "text/html": [
       "<div>\n",
       "<style scoped>\n",
       "    .dataframe tbody tr th:only-of-type {\n",
       "        vertical-align: middle;\n",
       "    }\n",
       "\n",
       "    .dataframe tbody tr th {\n",
       "        vertical-align: top;\n",
       "    }\n",
       "\n",
       "    .dataframe thead tr th {\n",
       "        text-align: left;\n",
       "    }\n",
       "\n",
       "    .dataframe thead tr:last-of-type th {\n",
       "        text-align: right;\n",
       "    }\n",
       "</style>\n",
       "<table border=\"1\" class=\"dataframe\">\n",
       "  <thead>\n",
       "    <tr>\n",
       "      <th></th>\n",
       "      <th colspan=\"4\" halign=\"left\">kelompok_1</th>\n",
       "      <th colspan=\"4\" halign=\"left\">kelompok_2</th>\n",
       "      <th colspan=\"4\" halign=\"left\">kelompok_3</th>\n",
       "      <th colspan=\"4\" halign=\"left\">kelompok_4</th>\n",
       "      <th colspan=\"4\" halign=\"left\">kelompok_5</th>\n",
       "      <th colspan=\"4\" halign=\"left\">kelompok_6</th>\n",
       "    </tr>\n",
       "    <tr>\n",
       "      <th></th>\n",
       "      <th>mean</th>\n",
       "      <th>median</th>\n",
       "      <th>std</th>\n",
       "      <th>var</th>\n",
       "      <th>mean</th>\n",
       "      <th>median</th>\n",
       "      <th>std</th>\n",
       "      <th>var</th>\n",
       "      <th>mean</th>\n",
       "      <th>median</th>\n",
       "      <th>std</th>\n",
       "      <th>var</th>\n",
       "      <th>mean</th>\n",
       "      <th>median</th>\n",
       "      <th>std</th>\n",
       "      <th>var</th>\n",
       "      <th>mean</th>\n",
       "      <th>median</th>\n",
       "      <th>std</th>\n",
       "      <th>var</th>\n",
       "      <th>mean</th>\n",
       "      <th>median</th>\n",
       "      <th>std</th>\n",
       "      <th>var</th>\n",
       "    </tr>\n",
       "    <tr>\n",
       "      <th>sex</th>\n",
       "      <th></th>\n",
       "      <th></th>\n",
       "      <th></th>\n",
       "      <th></th>\n",
       "      <th></th>\n",
       "      <th></th>\n",
       "      <th></th>\n",
       "      <th></th>\n",
       "      <th></th>\n",
       "      <th></th>\n",
       "      <th></th>\n",
       "      <th></th>\n",
       "      <th></th>\n",
       "      <th></th>\n",
       "      <th></th>\n",
       "      <th></th>\n",
       "      <th></th>\n",
       "      <th></th>\n",
       "      <th></th>\n",
       "      <th></th>\n",
       "      <th></th>\n",
       "      <th></th>\n",
       "      <th></th>\n",
       "      <th></th>\n",
       "    </tr>\n",
       "  </thead>\n",
       "  <tbody>\n",
       "    <tr>\n",
       "      <th>betina</th>\n",
       "      <td>117.570</td>\n",
       "      <td>114.97</td>\n",
       "      <td>11.959611</td>\n",
       "      <td>143.03230</td>\n",
       "      <td>116.260</td>\n",
       "      <td>114.20</td>\n",
       "      <td>7.835279</td>\n",
       "      <td>61.39160</td>\n",
       "      <td>117.236</td>\n",
       "      <td>116.26</td>\n",
       "      <td>6.245297</td>\n",
       "      <td>39.00373</td>\n",
       "      <td>120.066</td>\n",
       "      <td>118.67</td>\n",
       "      <td>9.489904</td>\n",
       "      <td>90.05828</td>\n",
       "      <td>117.980</td>\n",
       "      <td>114.14</td>\n",
       "      <td>9.713668</td>\n",
       "      <td>94.35535</td>\n",
       "      <td>114.466</td>\n",
       "      <td>112.02</td>\n",
       "      <td>6.078567</td>\n",
       "      <td>36.94898</td>\n",
       "    </tr>\n",
       "    <tr>\n",
       "      <th>jantan</th>\n",
       "      <td>154.412</td>\n",
       "      <td>157.75</td>\n",
       "      <td>16.699685</td>\n",
       "      <td>278.87947</td>\n",
       "      <td>150.158</td>\n",
       "      <td>145.74</td>\n",
       "      <td>18.633096</td>\n",
       "      <td>347.19227</td>\n",
       "      <td>147.802</td>\n",
       "      <td>146.58</td>\n",
       "      <td>10.068551</td>\n",
       "      <td>101.37572</td>\n",
       "      <td>152.138</td>\n",
       "      <td>158.58</td>\n",
       "      <td>10.226100</td>\n",
       "      <td>104.57312</td>\n",
       "      <td>153.428</td>\n",
       "      <td>152.60</td>\n",
       "      <td>9.646293</td>\n",
       "      <td>93.05097</td>\n",
       "      <td>147.762</td>\n",
       "      <td>148.39</td>\n",
       "      <td>10.742391</td>\n",
       "      <td>115.39897</td>\n",
       "    </tr>\n",
       "  </tbody>\n",
       "</table>\n",
       "</div>"
      ],
      "text/plain": [
       "       kelompok_1                               kelompok_2                     \\\n",
       "             mean  median        std        var       mean  median        std   \n",
       "sex                                                                             \n",
       "betina    117.570  114.97  11.959611  143.03230    116.260  114.20   7.835279   \n",
       "jantan    154.412  157.75  16.699685  278.87947    150.158  145.74  18.633096   \n",
       "\n",
       "                  kelompok_3                               kelompok_4          \\\n",
       "              var       mean  median        std        var       mean  median   \n",
       "sex                                                                             \n",
       "betina   61.39160    117.236  116.26   6.245297   39.00373    120.066  118.67   \n",
       "jantan  347.19227    147.802  146.58  10.068551  101.37572    152.138  158.58   \n",
       "\n",
       "                             kelompok_5                              \\\n",
       "              std        var       mean  median       std       var   \n",
       "sex                                                                   \n",
       "betina   9.489904   90.05828    117.980  114.14  9.713668  94.35535   \n",
       "jantan  10.226100  104.57312    153.428  152.60  9.646293  93.05097   \n",
       "\n",
       "       kelompok_6                                \n",
       "             mean  median        std        var  \n",
       "sex                                              \n",
       "betina    114.466  112.02   6.078567   36.94898  \n",
       "jantan    147.762  148.39  10.742391  115.39897  "
      ]
     },
     "execution_count": 4,
     "metadata": {},
     "output_type": "execute_result"
    }
   ],
   "source": [
    "bb= df_new.groupby('sex').agg([np.mean,np.median,np.std,np.var])\n",
    "bb"
   ]
  },
  {
   "cell_type": "markdown",
   "metadata": {},
   "source": [
    "rata rata berat badan tikus antar kelompok"
   ]
  },
  {
   "cell_type": "code",
   "execution_count": 10,
   "metadata": {
    "scrolled": true
   },
   "outputs": [
    {
     "data": {
      "text/html": [
       "<div>\n",
       "<style scoped>\n",
       "    .dataframe tbody tr th:only-of-type {\n",
       "        vertical-align: middle;\n",
       "    }\n",
       "\n",
       "    .dataframe tbody tr th {\n",
       "        vertical-align: top;\n",
       "    }\n",
       "\n",
       "    .dataframe thead th {\n",
       "        text-align: right;\n",
       "    }\n",
       "</style>\n",
       "<table border=\"1\" class=\"dataframe\">\n",
       "  <thead>\n",
       "    <tr style=\"text-align: right;\">\n",
       "      <th></th>\n",
       "      <th>sex</th>\n",
       "      <th>kelompok_1</th>\n",
       "      <th>kelompok_2</th>\n",
       "      <th>kelompok_3</th>\n",
       "      <th>kelompok_4</th>\n",
       "      <th>kelompok_5</th>\n",
       "      <th>kelompok_6</th>\n",
       "    </tr>\n",
       "  </thead>\n",
       "  <tbody>\n",
       "    <tr>\n",
       "      <th>5</th>\n",
       "      <td>betina</td>\n",
       "      <td>136.78</td>\n",
       "      <td>127.72</td>\n",
       "      <td>126.08</td>\n",
       "      <td>134.92</td>\n",
       "      <td>131.35</td>\n",
       "      <td>110.45</td>\n",
       "    </tr>\n",
       "    <tr>\n",
       "      <th>6</th>\n",
       "      <td>betina</td>\n",
       "      <td>114.97</td>\n",
       "      <td>114.20</td>\n",
       "      <td>116.26</td>\n",
       "      <td>118.67</td>\n",
       "      <td>108.79</td>\n",
       "      <td>117.76</td>\n",
       "    </tr>\n",
       "    <tr>\n",
       "      <th>7</th>\n",
       "      <td>betina</td>\n",
       "      <td>108.72</td>\n",
       "      <td>108.72</td>\n",
       "      <td>108.99</td>\n",
       "      <td>122.66</td>\n",
       "      <td>124.86</td>\n",
       "      <td>123.46</td>\n",
       "    </tr>\n",
       "    <tr>\n",
       "      <th>8</th>\n",
       "      <td>betina</td>\n",
       "      <td>120.32</td>\n",
       "      <td>120.40</td>\n",
       "      <td>119.52</td>\n",
       "      <td>111.02</td>\n",
       "      <td>114.14</td>\n",
       "      <td>108.64</td>\n",
       "    </tr>\n",
       "    <tr>\n",
       "      <th>9</th>\n",
       "      <td>betina</td>\n",
       "      <td>107.06</td>\n",
       "      <td>110.26</td>\n",
       "      <td>115.33</td>\n",
       "      <td>113.06</td>\n",
       "      <td>110.76</td>\n",
       "      <td>112.02</td>\n",
       "    </tr>\n",
       "  </tbody>\n",
       "</table>\n",
       "</div>"
      ],
      "text/plain": [
       "      sex  kelompok_1  kelompok_2  kelompok_3  kelompok_4  kelompok_5  \\\n",
       "5  betina      136.78      127.72      126.08      134.92      131.35   \n",
       "6  betina      114.97      114.20      116.26      118.67      108.79   \n",
       "7  betina      108.72      108.72      108.99      122.66      124.86   \n",
       "8  betina      120.32      120.40      119.52      111.02      114.14   \n",
       "9  betina      107.06      110.26      115.33      113.06      110.76   \n",
       "\n",
       "   kelompok_6  \n",
       "5      110.45  \n",
       "6      117.76  \n",
       "7      123.46  \n",
       "8      108.64  \n",
       "9      112.02  "
      ]
     },
     "execution_count": 10,
     "metadata": {},
     "output_type": "execute_result"
    }
   ],
   "source": [
    "#drop 5 baris awal (memisahkan data tikus betina)\n",
    "betina=df_new.iloc[5:,]\n",
    "betina"
   ]
  },
  {
   "cell_type": "code",
   "execution_count": 27,
   "metadata": {},
   "outputs": [
    {
     "data": {
      "image/png": "[encoded data removed]",
      "text/plain": [
       "<Figure size 720x360 with 1 Axes>"
      ]
     },
     "metadata": {},
     "output_type": "display_data"
    }
   ],
   "source": [
    "kelompok_1= betina['kelompok_1']\n",
    "kelompok_2= betina['kelompok_2']\n",
    "kelompok_3= betina['kelompok_3']\n",
    "kelompok_4= betina['kelompok_4']\n",
    "kelompok_5= betina['kelompok_5']\n",
    "kelompok_6= betina['kelompok_6']\n",
    "\n",
    "column_bb=[kelompok_1,kelompok_2,kelompok_3,kelompok_4,kelompok_5,kelompok_6]\n",
    "fig, ax=plt.subplots(figsize=(10,5))\n",
    "ax.boxplot(column_bb, notch=True, patch_artist=True)\n",
    "plt.xticks([1,2,3,4,5,6],[\"kelompok_1\",\"kelompok_2\",\"kelompok_3\",\"kelompok_4\",\"kelompok_5\",\"kelompok_6\"])\n",
    "plt.show()"
   ]
  },
  {
   "cell_type": "markdown",
   "metadata": {},
   "source": [
    "# perbandingan BB betina antar kelompok"
   ]
  },
  {
   "cell_type": "code",
   "execution_count": 11,
   "metadata": {},
   "outputs": [
    {
     "data": {
      "text/html": [
       "<div>\n",
       "<style scoped>\n",
       "    .dataframe tbody tr th:only-of-type {\n",
       "        vertical-align: middle;\n",
       "    }\n",
       "\n",
       "    .dataframe tbody tr th {\n",
       "        vertical-align: top;\n",
       "    }\n",
       "\n",
       "    .dataframe thead th {\n",
       "        text-align: right;\n",
       "    }\n",
       "</style>\n",
       "<table border=\"1\" class=\"dataframe\">\n",
       "  <thead>\n",
       "    <tr style=\"text-align: right;\">\n",
       "      <th></th>\n",
       "      <th>sex</th>\n",
       "      <th>kelompok_1</th>\n",
       "      <th>kelompok_2</th>\n",
       "      <th>kelompok_3</th>\n",
       "      <th>kelompok_4</th>\n",
       "      <th>kelompok_5</th>\n",
       "      <th>kelompok_6</th>\n",
       "    </tr>\n",
       "  </thead>\n",
       "  <tbody>\n",
       "    <tr>\n",
       "      <th>0</th>\n",
       "      <td>jantan</td>\n",
       "      <td>165.82</td>\n",
       "      <td>162.02</td>\n",
       "      <td>158.48</td>\n",
       "      <td>158.58</td>\n",
       "      <td>155.21</td>\n",
       "      <td>135.95</td>\n",
       "    </tr>\n",
       "    <tr>\n",
       "      <th>1</th>\n",
       "      <td>jantan</td>\n",
       "      <td>133.68</td>\n",
       "      <td>134.95</td>\n",
       "      <td>133.46</td>\n",
       "      <td>137.58</td>\n",
       "      <td>146.43</td>\n",
       "      <td>154.48</td>\n",
       "    </tr>\n",
       "    <tr>\n",
       "      <th>2</th>\n",
       "      <td>jantan</td>\n",
       "      <td>141.18</td>\n",
       "      <td>145.74</td>\n",
       "      <td>146.58</td>\n",
       "      <td>160.68</td>\n",
       "      <td>168.72</td>\n",
       "      <td>161.54</td>\n",
       "    </tr>\n",
       "    <tr>\n",
       "      <th>3</th>\n",
       "      <td>jantan</td>\n",
       "      <td>173.63</td>\n",
       "      <td>176.03</td>\n",
       "      <td>156.26</td>\n",
       "      <td>158.70</td>\n",
       "      <td>152.60</td>\n",
       "      <td>148.39</td>\n",
       "    </tr>\n",
       "    <tr>\n",
       "      <th>4</th>\n",
       "      <td>jantan</td>\n",
       "      <td>157.75</td>\n",
       "      <td>132.05</td>\n",
       "      <td>144.23</td>\n",
       "      <td>145.15</td>\n",
       "      <td>144.18</td>\n",
       "      <td>138.45</td>\n",
       "    </tr>\n",
       "  </tbody>\n",
       "</table>\n",
       "</div>"
      ],
      "text/plain": [
       "      sex  kelompok_1  kelompok_2  kelompok_3  kelompok_4  kelompok_5  \\\n",
       "0  jantan      165.82      162.02      158.48      158.58      155.21   \n",
       "1  jantan      133.68      134.95      133.46      137.58      146.43   \n",
       "2  jantan      141.18      145.74      146.58      160.68      168.72   \n",
       "3  jantan      173.63      176.03      156.26      158.70      152.60   \n",
       "4  jantan      157.75      132.05      144.23      145.15      144.18   \n",
       "\n",
       "   kelompok_6  \n",
       "0      135.95  \n",
       "1      154.48  \n",
       "2      161.54  \n",
       "3      148.39  \n",
       "4      138.45  "
      ]
     },
     "execution_count": 11,
     "metadata": {},
     "output_type": "execute_result"
    }
   ],
   "source": [
    "#drop baris dengan kalimat \"betina\" di kolom sex (memisahkan data tikus jantan)\n",
    "jantan=df_new[df_new.sex != 'betina']\n",
    "jantan"
   ]
  },
  {
   "cell_type": "code",
   "execution_count": 28,
   "metadata": {},
   "outputs": [
    {
     "data": {
      "image/png": "[encoded data removed]",
      "text/plain": [
       "<Figure size 720x360 with 1 Axes>"
      ]
     },
     "metadata": {},
     "output_type": "display_data"
    }
   ],
   "source": [
    "kelompok_1= jantan['kelompok_1']\n",
    "kelompok_2= jantan['kelompok_2']\n",
    "kelompok_3= jantan['kelompok_3']\n",
    "kelompok_4= jantan['kelompok_4']\n",
    "kelompok_5= jantan['kelompok_5']\n",
    "kelompok_6= jantan['kelompok_6']\n",
    "\n",
    "column_bk=[kelompok_1,kelompok_2,kelompok_3,kelompok_4,kelompok_5,kelompok_6]\n",
    "fig, ax=plt.subplots(figsize=(10,5))\n",
    "ax.boxplot(column_bk, notch=True, patch_artist=True)\n",
    "plt.xticks([1,2,3,4,5,6],[\"kelompok_1\",\"kelompok_2\",\"kelompok_3\",\"kelompok_4\",\"kelompok_5\",\"kelompok_6\"])\n",
    "plt.show()"
   ]
  },
  {
   "cell_type": "markdown",
   "metadata": {},
   "source": [
    "# perbandingan BB betina antar kelompok"
   ]
  },
  {
   "cell_type": "code",
   "execution_count": 5,
   "metadata": {},
   "outputs": [
    {
     "data": {
      "image/png": "[encoded data removed]",
      "text/plain": [
       "<Figure size 432x288 with 1 Axes>"
      ]
     },
     "metadata": {},
     "output_type": "display_data"
    }
   ],
   "source": [
    "sns.boxplot(x=df_new.sex, y=df_new.kelompok_1)\n",
    "plt.show()"
   ]
  },
  {
   "cell_type": "code",
   "execution_count": 6,
   "metadata": {},
   "outputs": [
    {
     "data": {
      "image/png": "[encoded data removed]",
      "text/plain": [
       "<Figure size 432x288 with 1 Axes>"
      ]
     },
     "metadata": {},
     "output_type": "display_data"
    }
   ],
   "source": [
    "sns.boxplot(x=df_new.sex, y=df_new.kelompok_2)\n",
    "plt.show()"
   ]
  },
  {
   "cell_type": "code",
   "execution_count": 36,
   "metadata": {},
   "outputs": [
    {
     "data": {
      "image/png": "[encoded data removed]",
      "text/plain": [
       "<Figure size 432x288 with 1 Axes>"
      ]
     },
     "metadata": {},
     "output_type": "display_data"
    }
   ],
   "source": [
    "sns.boxplot(x=df_new.sex, y=df_new.kelompok_3)\n",
    "plt.show()"
   ]
  },
  {
   "cell_type": "code",
   "execution_count": 7,
   "metadata": {},
   "outputs": [
    {
     "data": {
      "image/png": "[encoded data removed]",
      "text/plain": [
       "<Figure size 432x288 with 1 Axes>"
      ]
     },
     "metadata": {},
     "output_type": "display_data"
    }
   ],
   "source": [
    "sns.boxplot(x=df_new.sex, y=df_new.kelompok_4)\n",
    "plt.show()"
   ]
  },
  {
   "cell_type": "code",
   "execution_count": 8,
   "metadata": {},
   "outputs": [
    {
     "data": {
      "image/png": "[encoded data removed]",
      "text/plain": [
       "<Figure size 432x288 with 1 Axes>"
      ]
     },
     "metadata": {},
     "output_type": "display_data"
    }
   ],
   "source": [
    "sns.boxplot(x=df_new.sex, y=df_new.kelompok_5)\n",
    "plt.show()"
   ]
  },
  {
   "cell_type": "code",
   "execution_count": 9,
   "metadata": {},
   "outputs": [
    {
     "data": {
      "image/png": "[encoded data removed]",
      "text/plain": [
       "<Figure size 432x288 with 1 Axes>"
      ]
     },
     "metadata": {},
     "output_type": "display_data"
    }
   ],
   "source": [
    "sns.boxplot(x=df_new.sex, y=df_new.kelompok_6)\n",
    "plt.show()"
   ]
  },
  {
   "cell_type": "code",
   "execution_count": 31,
   "metadata": {},
   "outputs": [],
   "source": [
    "numerics= df_new._get_numeric_data()"
   ]
  },
  {
   "cell_type": "code",
   "execution_count": 32,
   "metadata": {},
   "outputs": [
    {
     "data": {
      "text/plain": [
       "(0.9340169429779053, 0.002952503738924861)"
      ]
     },
     "execution_count": 32,
     "metadata": {},
     "output_type": "execute_result"
    }
   ],
   "source": [
    "from scipy import stats\n",
    "stats.shapiro(numerics)"
   ]
  },
  {
   "cell_type": "markdown",
   "metadata": {},
   "source": [
    "melakukan uji normalitas antar data kelompok \n",
    "\n",
    "#uji normalitas\n",
    "\n",
    "#H0= data terdistribusi normal\n",
    "\n",
    "#H1= data tidak terdistribusi normal\n",
    "\n",
    "#pvalue>0.05 gagal menolak H0 (data terdistribusi normal)\n",
    "\n",
    "# hasil 0.002<0.05 tolak H0 atau terima H1 (data tidak terdistribusi normal)\n"
   ]
  },
  {
   "cell_type": "code",
   "execution_count": 33,
   "metadata": {},
   "outputs": [
    {
     "data": {
      "text/plain": [
       "(0.9620466232299805, 0.3490484952926636)"
      ]
     },
     "execution_count": 33,
     "metadata": {},
     "output_type": "execute_result"
    }
   ],
   "source": [
    "numeric_jantan= jantan._get_numeric_data()\n",
    "from scipy import stats\n",
    "stats.shapiro(numeric_jantan)"
   ]
  },
  {
   "cell_type": "markdown",
   "metadata": {},
   "source": [
    "tes normalitas untuk tikus jantan \n",
    "\n",
    "#H0= data terdistribusi normal\n",
    "\n",
    "#H1= data tidak terdistribusi normal\n",
    "\n",
    "#pvalue>0.05 gagal menolak H0 (data terdistribusi normal)\n",
    "\n",
    "# hasil 0.34 > 0.05 gagal tolak H0 (data terdistribusi normal)\n",
    "\n",
    "#dapat dilanjut tes annova"
   ]
  },
  {
   "cell_type": "code",
   "execution_count": 34,
   "metadata": {},
   "outputs": [
    {
     "name": "stdout",
     "output_type": "stream",
     "text": [
      "F_onewayResult(statistic=0.2320360830598071, pvalue=0.9446927009639899)\n"
     ]
    }
   ],
   "source": [
    "data_jantan= stats.f_oneway(jantan['kelompok_1'],jantan['kelompok_2'],jantan['kelompok_3'],jantan['kelompok_4'],jantan['kelompok_5'],jantan['kelompok_6'])\n",
    "print(data_jantan)"
   ]
  },
  {
   "cell_type": "markdown",
   "metadata": {},
   "source": [
    "# uji annova\n",
    "\n",
    "#H0= tidak terdapat perbedaan rata-rata data yang signifikan\n",
    "\n",
    "#H1= terdapat perbedaan rata-rata data yang signifikan\n",
    "\n",
    "#pvalue>0.05 gagal menolak H0 (tidak terdapat perbedaan rata-rata data yang signifikan)\n",
    "\n",
    "# hasil 0.94 > 0.05 gagal tolak H0 (tidak terdapat perbedaan rata-rata data yang signifikan)"
   ]
  },
  {
   "cell_type": "code",
   "execution_count": 35,
   "metadata": {},
   "outputs": [
    {
     "data": {
      "text/plain": [
       "(0.9132537841796875, 0.01799141988158226)"
      ]
     },
     "execution_count": 35,
     "metadata": {},
     "output_type": "execute_result"
    }
   ],
   "source": [
    "numeric_betina= betina._get_numeric_data()\n",
    "from scipy import stats\n",
    "stats.shapiro(numeric_betina)"
   ]
  },
  {
   "cell_type": "markdown",
   "metadata": {},
   "source": [
    "tes normalitas untuk tikus betina\n",
    "\n",
    "#H0= data terdistribusi normal\n",
    "\n",
    "#H1= data tidak terdistribusi normal\n",
    "\n",
    "#pvalue>0.05 gagal menolak H0 (data terdistribusi normal)\n",
    "\n",
    "#hasil 0.01 < 0.05 tolak H0 (data tidak terdistribusi normal)\n",
    "\n",
    "# karena data tidak terdistribusi normal, dilakukan uji kruskal willis "
   ]
  },
  {
   "cell_type": "code",
   "execution_count": 36,
   "metadata": {},
   "outputs": [
    {
     "name": "stdout",
     "output_type": "stream",
     "text": [
      "KruskalResult(statistic=1.491944815309309, pvalue=0.913997504634506)\n"
     ]
    }
   ],
   "source": [
    "data_betina= stats.kruskal(betina['kelompok_1'],betina['kelompok_2'],betina['kelompok_3'],betina['kelompok_4'],betina['kelompok_5'],betina['kelompok_6'])\n",
    "print(data_betina)"
   ]
  },
  {
   "cell_type": "markdown",
   "metadata": {},
   "source": [
    "# uji Kruskal willis\n",
    "\n",
    "#H0= tidak terdapat perbedaan rata-rata data yang signifikan\n",
    "\n",
    "#H1= terdapat perbedaan rata-rata data yang signifikan\n",
    "\n",
    "#pvalue>0.05 gagal menolak H0 (tidak terdapat perbedaan rata-rata data yang signifikan)\n",
    "\n",
    "# hasil 0.91 > 0.05 gagal tolak H0 (tidak terdapat perbedaan rata-rata data yang signifikan)\n"
   ]
  }
 ],
 "metadata": {
  "kernelspec": {
   "display_name": "Python 3",
   "language": "python",
   "name": "python3"
  },
  "language_info": {
   "codemirror_mode": {
    "name": "ipython",
    "version": 3
   },
   "file_extension": ".py",
   "mimetype": "text/x-python",
   "name": "python",
   "nbconvert_exporter": "python",
   "pygments_lexer": "ipython3",
   "version": "3.6.5"
  }
 },
 "nbformat": 4,
 "nbformat_minor": 2
}
